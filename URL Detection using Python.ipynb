{
 "cells": [
  {
   "attachments": {},
   "cell_type": "markdown",
   "id": "37dcb8e2",
   "metadata": {},
   "source": [
    "#### Importing the neccessary packages"
   ]
  },
  {
   "cell_type": "code",
   "execution_count": 1,
   "id": "8a6a4249",
   "metadata": {},
   "outputs": [],
   "source": [
    "import pandas as pd\n",
    "import numpy as np\n",
    "import random\n",
    "import matplotlib.pyplot as plt\n",
    "from matplotlib.pyplot import figure\n",
    "import seaborn as sns\n",
    "from sklearn.metrics import f1_score,accuracy_score\n",
    "from sklearn.preprocessing import LabelEncoder\n",
    "from sklearn.model_selection import cross_val_score\n",
    "from sklearn.tree import DecisionTreeClassifier\n",
    "from sklearn.ensemble import RandomForestClassifier\n",
    "from time import process_time\n",
    "from nltk.tokenize import RegexpTokenizer\n",
    "from sklearn.feature_extraction.text import CountVectorizer\n",
    "from sklearn.feature_extraction.text import TfidfVectorizer\n",
    "from sklearn.linear_model import LogisticRegression\n",
    "from sklearn.model_selection import train_test_split\n",
    "from sklearn.pipeline import make_pipeline\n",
    "from sklearn.metrics import confusion_matrix\n",
    "import pickle"
   ]
  },
  {
   "cell_type": "code",
   "execution_count": 2,
   "id": "af1cb1f2",
   "metadata": {},
   "outputs": [],
   "source": [
    "# Importing the datasets\n",
    "url_df_1 = pd.read_csv('data.csv')\n",
    "url_df_2 = pd.read_csv('phishing_site_urls.csv')"
   ]
  },
  {
   "attachments": {},
   "cell_type": "markdown",
   "id": "ea9005be",
   "metadata": {},
   "source": [
    "## Exploratory Data Analysis"
   ]
  },
  {
   "cell_type": "code",
   "execution_count": 3,
   "id": "cc43374f",
   "metadata": {},
   "outputs": [
    {
     "data": {
      "text/html": [
       "<div>\n",
       "<style scoped>\n",
       "    .dataframe tbody tr th:only-of-type {\n",
       "        vertical-align: middle;\n",
       "    }\n",
       "\n",
       "    .dataframe tbody tr th {\n",
       "        vertical-align: top;\n",
       "    }\n",
       "\n",
       "    .dataframe thead th {\n",
       "        text-align: right;\n",
       "    }\n",
       "</style>\n",
       "<table border=\"1\" class=\"dataframe\">\n",
       "  <thead>\n",
       "    <tr style=\"text-align: right;\">\n",
       "      <th></th>\n",
       "      <th>url</th>\n",
       "      <th>label</th>\n",
       "    </tr>\n",
       "  </thead>\n",
       "  <tbody>\n",
       "    <tr>\n",
       "      <th>0</th>\n",
       "      <td>diaryofagameaddict.com</td>\n",
       "      <td>bad</td>\n",
       "    </tr>\n",
       "    <tr>\n",
       "      <th>1</th>\n",
       "      <td>espdesign.com.au</td>\n",
       "      <td>bad</td>\n",
       "    </tr>\n",
       "    <tr>\n",
       "      <th>2</th>\n",
       "      <td>iamagameaddict.com</td>\n",
       "      <td>bad</td>\n",
       "    </tr>\n",
       "    <tr>\n",
       "      <th>3</th>\n",
       "      <td>kalantzis.net</td>\n",
       "      <td>bad</td>\n",
       "    </tr>\n",
       "    <tr>\n",
       "      <th>4</th>\n",
       "      <td>slightlyoffcenter.net</td>\n",
       "      <td>bad</td>\n",
       "    </tr>\n",
       "    <tr>\n",
       "      <th>5</th>\n",
       "      <td>toddscarwash.com</td>\n",
       "      <td>bad</td>\n",
       "    </tr>\n",
       "    <tr>\n",
       "      <th>6</th>\n",
       "      <td>tubemoviez.com</td>\n",
       "      <td>bad</td>\n",
       "    </tr>\n",
       "    <tr>\n",
       "      <th>7</th>\n",
       "      <td>ipl.hk</td>\n",
       "      <td>bad</td>\n",
       "    </tr>\n",
       "    <tr>\n",
       "      <th>8</th>\n",
       "      <td>crackspider.us/toolbar/install.php?pack=exe</td>\n",
       "      <td>bad</td>\n",
       "    </tr>\n",
       "    <tr>\n",
       "      <th>9</th>\n",
       "      <td>pos-kupang.com/</td>\n",
       "      <td>bad</td>\n",
       "    </tr>\n",
       "  </tbody>\n",
       "</table>\n",
       "</div>"
      ],
      "text/plain": [
       "                                           url label\n",
       "0                       diaryofagameaddict.com   bad\n",
       "1                             espdesign.com.au   bad\n",
       "2                           iamagameaddict.com   bad\n",
       "3                                kalantzis.net   bad\n",
       "4                        slightlyoffcenter.net   bad\n",
       "5                             toddscarwash.com   bad\n",
       "6                               tubemoviez.com   bad\n",
       "7                                       ipl.hk   bad\n",
       "8  crackspider.us/toolbar/install.php?pack=exe   bad\n",
       "9                              pos-kupang.com/   bad"
      ]
     },
     "execution_count": 3,
     "metadata": {},
     "output_type": "execute_result"
    }
   ],
   "source": [
    "url_df_1.head(10)"
   ]
  },
  {
   "cell_type": "code",
   "execution_count": 4,
   "id": "772acf0f",
   "metadata": {},
   "outputs": [
    {
     "data": {
      "text/html": [
       "<div>\n",
       "<style scoped>\n",
       "    .dataframe tbody tr th:only-of-type {\n",
       "        vertical-align: middle;\n",
       "    }\n",
       "\n",
       "    .dataframe tbody tr th {\n",
       "        vertical-align: top;\n",
       "    }\n",
       "\n",
       "    .dataframe thead th {\n",
       "        text-align: right;\n",
       "    }\n",
       "</style>\n",
       "<table border=\"1\" class=\"dataframe\">\n",
       "  <thead>\n",
       "    <tr style=\"text-align: right;\">\n",
       "      <th></th>\n",
       "      <th>URL</th>\n",
       "      <th>Label</th>\n",
       "    </tr>\n",
       "  </thead>\n",
       "  <tbody>\n",
       "    <tr>\n",
       "      <th>0</th>\n",
       "      <td>nobell.it/70ffb52d079109dca5664cce6f317373782/...</td>\n",
       "      <td>bad</td>\n",
       "    </tr>\n",
       "    <tr>\n",
       "      <th>1</th>\n",
       "      <td>www.dghjdgf.com/paypal.co.uk/cycgi-bin/webscrc...</td>\n",
       "      <td>bad</td>\n",
       "    </tr>\n",
       "    <tr>\n",
       "      <th>2</th>\n",
       "      <td>serviciosbys.com/paypal.cgi.bin.get-into.herf....</td>\n",
       "      <td>bad</td>\n",
       "    </tr>\n",
       "    <tr>\n",
       "      <th>3</th>\n",
       "      <td>mail.printakid.com/www.online.americanexpress....</td>\n",
       "      <td>bad</td>\n",
       "    </tr>\n",
       "    <tr>\n",
       "      <th>4</th>\n",
       "      <td>thewhiskeydregs.com/wp-content/themes/widescre...</td>\n",
       "      <td>bad</td>\n",
       "    </tr>\n",
       "    <tr>\n",
       "      <th>5</th>\n",
       "      <td>smilesvoegol.servebbs.org/voegol.php</td>\n",
       "      <td>bad</td>\n",
       "    </tr>\n",
       "    <tr>\n",
       "      <th>6</th>\n",
       "      <td>premierpaymentprocessing.com/includes/boleto-2...</td>\n",
       "      <td>bad</td>\n",
       "    </tr>\n",
       "    <tr>\n",
       "      <th>7</th>\n",
       "      <td>myxxxcollection.com/v1/js/jih321/bpd.com.do/do...</td>\n",
       "      <td>bad</td>\n",
       "    </tr>\n",
       "    <tr>\n",
       "      <th>8</th>\n",
       "      <td>super1000.info/docs</td>\n",
       "      <td>bad</td>\n",
       "    </tr>\n",
       "    <tr>\n",
       "      <th>9</th>\n",
       "      <td>horizonsgallery.com/js/bin/ssl1/_id/www.paypal...</td>\n",
       "      <td>bad</td>\n",
       "    </tr>\n",
       "  </tbody>\n",
       "</table>\n",
       "</div>"
      ],
      "text/plain": [
       "                                                 URL Label\n",
       "0  nobell.it/70ffb52d079109dca5664cce6f317373782/...   bad\n",
       "1  www.dghjdgf.com/paypal.co.uk/cycgi-bin/webscrc...   bad\n",
       "2  serviciosbys.com/paypal.cgi.bin.get-into.herf....   bad\n",
       "3  mail.printakid.com/www.online.americanexpress....   bad\n",
       "4  thewhiskeydregs.com/wp-content/themes/widescre...   bad\n",
       "5               smilesvoegol.servebbs.org/voegol.php   bad\n",
       "6  premierpaymentprocessing.com/includes/boleto-2...   bad\n",
       "7  myxxxcollection.com/v1/js/jih321/bpd.com.do/do...   bad\n",
       "8                                super1000.info/docs   bad\n",
       "9  horizonsgallery.com/js/bin/ssl1/_id/www.paypal...   bad"
      ]
     },
     "execution_count": 4,
     "metadata": {},
     "output_type": "execute_result"
    }
   ],
   "source": [
    "url_df_2.head(10)"
   ]
  },
  {
   "cell_type": "code",
   "execution_count": 5,
   "id": "2814796e",
   "metadata": {},
   "outputs": [
    {
     "name": "stdout",
     "output_type": "stream",
     "text": [
      "False\n",
      "False\n"
     ]
    }
   ],
   "source": [
    "# Checking for null values in the datasets\n",
    "print(url_df_1.isnull().values.any())\n",
    "print(url_df_2.isnull().values.any())\n",
    "\n",
    "\n",
    "#In case of null value we will fill the null values with mean: \n",
    "def dataImputation(data,key):\n",
    "    data = data.fillna(data[key].mean())\n",
    "    return data;"
   ]
  },
  {
   "cell_type": "code",
   "execution_count": 6,
   "id": "9c404006",
   "metadata": {
    "scrolled": true
   },
   "outputs": [
    {
     "name": "stdout",
     "output_type": "stream",
     "text": [
      "(420464, 2)\n",
      "(549346, 2)\n",
      "969810\n"
     ]
    }
   ],
   "source": [
    "# Total Entries in both datasets\n",
    "print(url_df_1.shape)\n",
    "print(url_df_2.shape)\n",
    "print(url_df_1['label'].count() + url_df_2['Label'].count())"
   ]
  },
  {
   "attachments": {},
   "cell_type": "markdown",
   "id": "9a326858",
   "metadata": {},
   "source": [
    "### Merging the two datasets"
   ]
  },
  {
   "cell_type": "code",
   "execution_count": 7,
   "id": "43aae5b0",
   "metadata": {},
   "outputs": [],
   "source": [
    "# Renaming the columns in the second dataset so that they match with the first one\n",
    "url_df_2 = url_df_2.rename(columns={'URL': 'url', 'Label': 'label'})\n",
    "# url_df = pd.merge(url_df_1, url_df_2)\n",
    "url_df = pd.concat([url_df_1,url_df_2]).drop_duplicates().reset_index(drop=True)"
   ]
  },
  {
   "cell_type": "code",
   "execution_count": 8,
   "id": "114f9ee8",
   "metadata": {},
   "outputs": [
    {
     "data": {
      "text/plain": [
       "(507197, 2)"
      ]
     },
     "execution_count": 8,
     "metadata": {},
     "output_type": "execute_result"
    }
   ],
   "source": [
    "url_df.shape"
   ]
  },
  {
   "cell_type": "code",
   "execution_count": 9,
   "id": "78b025ea",
   "metadata": {},
   "outputs": [
    {
     "data": {
      "text/html": [
       "<div>\n",
       "<style scoped>\n",
       "    .dataframe tbody tr th:only-of-type {\n",
       "        vertical-align: middle;\n",
       "    }\n",
       "\n",
       "    .dataframe tbody tr th {\n",
       "        vertical-align: top;\n",
       "    }\n",
       "\n",
       "    .dataframe thead th {\n",
       "        text-align: right;\n",
       "    }\n",
       "</style>\n",
       "<table border=\"1\" class=\"dataframe\">\n",
       "  <thead>\n",
       "    <tr style=\"text-align: right;\">\n",
       "      <th></th>\n",
       "      <th>url</th>\n",
       "      <th>label</th>\n",
       "    </tr>\n",
       "  </thead>\n",
       "  <tbody>\n",
       "    <tr>\n",
       "      <th>count</th>\n",
       "      <td>507197</td>\n",
       "      <td>507197</td>\n",
       "    </tr>\n",
       "    <tr>\n",
       "      <th>unique</th>\n",
       "      <td>507196</td>\n",
       "      <td>2</td>\n",
       "    </tr>\n",
       "    <tr>\n",
       "      <th>top</th>\n",
       "      <td>tommyhumphreys.com/</td>\n",
       "      <td>good</td>\n",
       "    </tr>\n",
       "    <tr>\n",
       "      <th>freq</th>\n",
       "      <td>2</td>\n",
       "      <td>392897</td>\n",
       "    </tr>\n",
       "  </tbody>\n",
       "</table>\n",
       "</div>"
      ],
      "text/plain": [
       "                        url   label\n",
       "count                507197  507197\n",
       "unique               507196       2\n",
       "top     tommyhumphreys.com/    good\n",
       "freq                      2  392897"
      ]
     },
     "execution_count": 9,
     "metadata": {},
     "output_type": "execute_result"
    }
   ],
   "source": [
    "url_df.describe()"
   ]
  },
  {
   "cell_type": "code",
   "execution_count": 10,
   "id": "06a342d5",
   "metadata": {},
   "outputs": [
    {
     "name": "stdout",
     "output_type": "stream",
     "text": [
      "<class 'pandas.core.frame.DataFrame'>\n",
      "RangeIndex: 507197 entries, 0 to 507196\n",
      "Data columns (total 2 columns):\n",
      " #   Column  Non-Null Count   Dtype \n",
      "---  ------  --------------   ----- \n",
      " 0   url     507197 non-null  object\n",
      " 1   label   507197 non-null  object\n",
      "dtypes: object(2)\n",
      "memory usage: 7.7+ MB\n"
     ]
    }
   ],
   "source": [
    "url_df.info()"
   ]
  },
  {
   "cell_type": "code",
   "execution_count": 11,
   "id": "87f8e4df",
   "metadata": {},
   "outputs": [
    {
     "name": "stdout",
     "output_type": "stream",
     "text": [
      "The number of good URLs in the dataset is: 392897\n",
      "The number of bad URLs in the dataset is: 114300\n"
     ]
    },
    {
     "data": {
      "image/png": "[encoded data removed]",
      "text/plain": [
       "<Figure size 576x432 with 1 Axes>"
      ]
     },
     "metadata": {
      "needs_background": "light"
     },
     "output_type": "display_data"
    }
   ],
   "source": [
    "# Visualising our data\n",
    "\n",
    "figure(figsize=(8, 6))\n",
    "print(f\"The number of good URLs in the dataset is: {url_df['label'].where(url_df['label'] == 'good').count()}\")\n",
    "print(f\"The number of bad URLs in the dataset is: {url_df['label'].where(url_df['label'] == 'bad').count()}\")\n",
    "plot = sns.barplot(x = ['Good', 'Bad'], y = url_df['label'].value_counts())\n",
    "plot.set(xlabel='Type', ylabel='Count')\n",
    "plt.show();"
   ]
  },
  {
   "attachments": {},
   "cell_type": "markdown",
   "id": "baf940c0",
   "metadata": {},
   "source": [
    "We can see that the number of Good URLs is far more than Bad URLs in our dataset and that makes our data <b>imbalanced</b> we can try resampling to solve this particular issue."
   ]
  },
  {
   "cell_type": "code",
   "execution_count": 12,
   "id": "3de08e4c",
   "metadata": {},
   "outputs": [],
   "source": [
    "good_urls = url_df[url_df['label'] == 'good']\n",
    "bad_urls = url_df[url_df['label'] == 'bad']"
   ]
  },
  {
   "cell_type": "code",
   "execution_count": 13,
   "id": "6a99b295",
   "metadata": {},
   "outputs": [
    {
     "data": {
      "text/html": [
       "<div>\n",
       "<style scoped>\n",
       "    .dataframe tbody tr th:only-of-type {\n",
       "        vertical-align: middle;\n",
       "    }\n",
       "\n",
       "    .dataframe tbody tr th {\n",
       "        vertical-align: top;\n",
       "    }\n",
       "\n",
       "    .dataframe thead th {\n",
       "        text-align: right;\n",
       "    }\n",
       "</style>\n",
       "<table border=\"1\" class=\"dataframe\">\n",
       "  <thead>\n",
       "    <tr style=\"text-align: right;\">\n",
       "      <th></th>\n",
       "      <th>url</th>\n",
       "      <th>label</th>\n",
       "    </tr>\n",
       "  </thead>\n",
       "  <tbody>\n",
       "    <tr>\n",
       "      <th>37044</th>\n",
       "      <td>01453.com/</td>\n",
       "      <td>good</td>\n",
       "    </tr>\n",
       "    <tr>\n",
       "      <th>37045</th>\n",
       "      <td>015fb31.netsolhost.com/bosstweed.html</td>\n",
       "      <td>good</td>\n",
       "    </tr>\n",
       "    <tr>\n",
       "      <th>37046</th>\n",
       "      <td>02bee66.netsolhost.com/lincolnhomepage/</td>\n",
       "      <td>good</td>\n",
       "    </tr>\n",
       "    <tr>\n",
       "      <th>37047</th>\n",
       "      <td>02ec0a3.netsolhost.com/getperson.php?personID=...</td>\n",
       "      <td>good</td>\n",
       "    </tr>\n",
       "    <tr>\n",
       "      <th>37048</th>\n",
       "      <td>032255.com/</td>\n",
       "      <td>good</td>\n",
       "    </tr>\n",
       "    <tr>\n",
       "      <th>37049</th>\n",
       "      <td>05minute.com/</td>\n",
       "      <td>good</td>\n",
       "    </tr>\n",
       "    <tr>\n",
       "      <th>37050</th>\n",
       "      <td>07090.blogspot.com/2011/07/westfield-police-of...</td>\n",
       "      <td>good</td>\n",
       "    </tr>\n",
       "    <tr>\n",
       "      <th>37051</th>\n",
       "      <td>08nrc.blogspot.com/</td>\n",
       "      <td>good</td>\n",
       "    </tr>\n",
       "    <tr>\n",
       "      <th>37052</th>\n",
       "      <td>0creditcard.biz/</td>\n",
       "      <td>good</td>\n",
       "    </tr>\n",
       "    <tr>\n",
       "      <th>37053</th>\n",
       "      <td>0dayreggaedancehall.blogspot.com/</td>\n",
       "      <td>good</td>\n",
       "    </tr>\n",
       "  </tbody>\n",
       "</table>\n",
       "</div>"
      ],
      "text/plain": [
       "                                                     url label\n",
       "37044                                         01453.com/  good\n",
       "37045              015fb31.netsolhost.com/bosstweed.html  good\n",
       "37046            02bee66.netsolhost.com/lincolnhomepage/  good\n",
       "37047  02ec0a3.netsolhost.com/getperson.php?personID=...  good\n",
       "37048                                        032255.com/  good\n",
       "37049                                      05minute.com/  good\n",
       "37050  07090.blogspot.com/2011/07/westfield-police-of...  good\n",
       "37051                                08nrc.blogspot.com/  good\n",
       "37052                                   0creditcard.biz/  good\n",
       "37053                  0dayreggaedancehall.blogspot.com/  good"
      ]
     },
     "execution_count": 13,
     "metadata": {},
     "output_type": "execute_result"
    }
   ],
   "source": [
    "good_urls.head(10)"
   ]
  },
  {
   "cell_type": "code",
   "execution_count": 14,
   "id": "79176d5c",
   "metadata": {},
   "outputs": [
    {
     "data": {
      "text/html": [
       "<div>\n",
       "<style scoped>\n",
       "    .dataframe tbody tr th:only-of-type {\n",
       "        vertical-align: middle;\n",
       "    }\n",
       "\n",
       "    .dataframe tbody tr th {\n",
       "        vertical-align: top;\n",
       "    }\n",
       "\n",
       "    .dataframe thead th {\n",
       "        text-align: right;\n",
       "    }\n",
       "</style>\n",
       "<table border=\"1\" class=\"dataframe\">\n",
       "  <thead>\n",
       "    <tr style=\"text-align: right;\">\n",
       "      <th></th>\n",
       "      <th>url</th>\n",
       "      <th>label</th>\n",
       "    </tr>\n",
       "  </thead>\n",
       "  <tbody>\n",
       "    <tr>\n",
       "      <th>0</th>\n",
       "      <td>diaryofagameaddict.com</td>\n",
       "      <td>bad</td>\n",
       "    </tr>\n",
       "    <tr>\n",
       "      <th>1</th>\n",
       "      <td>espdesign.com.au</td>\n",
       "      <td>bad</td>\n",
       "    </tr>\n",
       "    <tr>\n",
       "      <th>2</th>\n",
       "      <td>iamagameaddict.com</td>\n",
       "      <td>bad</td>\n",
       "    </tr>\n",
       "    <tr>\n",
       "      <th>3</th>\n",
       "      <td>kalantzis.net</td>\n",
       "      <td>bad</td>\n",
       "    </tr>\n",
       "    <tr>\n",
       "      <th>4</th>\n",
       "      <td>slightlyoffcenter.net</td>\n",
       "      <td>bad</td>\n",
       "    </tr>\n",
       "    <tr>\n",
       "      <th>5</th>\n",
       "      <td>toddscarwash.com</td>\n",
       "      <td>bad</td>\n",
       "    </tr>\n",
       "    <tr>\n",
       "      <th>6</th>\n",
       "      <td>tubemoviez.com</td>\n",
       "      <td>bad</td>\n",
       "    </tr>\n",
       "    <tr>\n",
       "      <th>7</th>\n",
       "      <td>ipl.hk</td>\n",
       "      <td>bad</td>\n",
       "    </tr>\n",
       "    <tr>\n",
       "      <th>8</th>\n",
       "      <td>crackspider.us/toolbar/install.php?pack=exe</td>\n",
       "      <td>bad</td>\n",
       "    </tr>\n",
       "    <tr>\n",
       "      <th>9</th>\n",
       "      <td>pos-kupang.com/</td>\n",
       "      <td>bad</td>\n",
       "    </tr>\n",
       "  </tbody>\n",
       "</table>\n",
       "</div>"
      ],
      "text/plain": [
       "                                           url label\n",
       "0                       diaryofagameaddict.com   bad\n",
       "1                             espdesign.com.au   bad\n",
       "2                           iamagameaddict.com   bad\n",
       "3                                kalantzis.net   bad\n",
       "4                        slightlyoffcenter.net   bad\n",
       "5                             toddscarwash.com   bad\n",
       "6                               tubemoviez.com   bad\n",
       "7                                       ipl.hk   bad\n",
       "8  crackspider.us/toolbar/install.php?pack=exe   bad\n",
       "9                              pos-kupang.com/   bad"
      ]
     },
     "execution_count": 14,
     "metadata": {},
     "output_type": "execute_result"
    }
   ],
   "source": [
    "bad_urls.head(10)"
   ]
  },
  {
   "attachments": {},
   "cell_type": "markdown",
   "id": "3f570fdf",
   "metadata": {},
   "source": [
    "## Data Preprocessing\n",
    "\n"
   ]
  },
  {
   "cell_type": "code",
   "execution_count": 15,
   "id": "bc4179de",
   "metadata": {},
   "outputs": [
    {
     "data": {
      "text/html": [
       "<div>\n",
       "<style scoped>\n",
       "    .dataframe tbody tr th:only-of-type {\n",
       "        vertical-align: middle;\n",
       "    }\n",
       "\n",
       "    .dataframe tbody tr th {\n",
       "        vertical-align: top;\n",
       "    }\n",
       "\n",
       "    .dataframe thead th {\n",
       "        text-align: right;\n",
       "    }\n",
       "</style>\n",
       "<table border=\"1\" class=\"dataframe\">\n",
       "  <thead>\n",
       "    <tr style=\"text-align: right;\">\n",
       "      <th></th>\n",
       "      <th>url</th>\n",
       "      <th>label</th>\n",
       "    </tr>\n",
       "  </thead>\n",
       "  <tbody>\n",
       "    <tr>\n",
       "      <th>106451</th>\n",
       "      <td>listofcitiesandcounties.com/list_of_cities_and...</td>\n",
       "      <td>good</td>\n",
       "    </tr>\n",
       "    <tr>\n",
       "      <th>197383</th>\n",
       "      <td>capitolhillseattle.com/2011/08/02/atlas-shrug-...</td>\n",
       "      <td>good</td>\n",
       "    </tr>\n",
       "    <tr>\n",
       "      <th>351179</th>\n",
       "      <td>tv-eh.com/2011/06/13/family-channel-and-disney...</td>\n",
       "      <td>good</td>\n",
       "    </tr>\n",
       "    <tr>\n",
       "      <th>125999</th>\n",
       "      <td>photobucket.com/images/Taylor+Matheny/</td>\n",
       "      <td>good</td>\n",
       "    </tr>\n",
       "    <tr>\n",
       "      <th>388366</th>\n",
       "      <td>lanotes.com/images/headers/korp/cp.php?m=login</td>\n",
       "      <td>bad</td>\n",
       "    </tr>\n",
       "    <tr>\n",
       "      <th>314894</th>\n",
       "      <td>pressking.com/media-contact-database/ca/c</td>\n",
       "      <td>good</td>\n",
       "    </tr>\n",
       "    <tr>\n",
       "      <th>176262</th>\n",
       "      <td>amazon.com/phrase/Ben-Weider</td>\n",
       "      <td>good</td>\n",
       "    </tr>\n",
       "    <tr>\n",
       "      <th>200668</th>\n",
       "      <td>cfmb.ch/</td>\n",
       "      <td>good</td>\n",
       "    </tr>\n",
       "    <tr>\n",
       "      <th>200290</th>\n",
       "      <td>census-online.us/view/NESBITT/</td>\n",
       "      <td>good</td>\n",
       "    </tr>\n",
       "    <tr>\n",
       "      <th>232921</th>\n",
       "      <td>fanbase.com/Steve-Barrere</td>\n",
       "      <td>good</td>\n",
       "    </tr>\n",
       "    <tr>\n",
       "      <th>156690</th>\n",
       "      <td>wiki.answers.com/Q/How_Did_Alexander_Tilloch_G...</td>\n",
       "      <td>good</td>\n",
       "    </tr>\n",
       "    <tr>\n",
       "      <th>107801</th>\n",
       "      <td>losangeles.citysearch.com/</td>\n",
       "      <td>good</td>\n",
       "    </tr>\n",
       "    <tr>\n",
       "      <th>389336</th>\n",
       "      <td>profisite.net.ua/server/cp.php?m=login</td>\n",
       "      <td>bad</td>\n",
       "    </tr>\n",
       "    <tr>\n",
       "      <th>459380</th>\n",
       "      <td>www.sierratel.com/resintl/</td>\n",
       "      <td>good</td>\n",
       "    </tr>\n",
       "    <tr>\n",
       "      <th>221710</th>\n",
       "      <td>etsy.com/listing/41862814/say-cheesecake-starr...</td>\n",
       "      <td>good</td>\n",
       "    </tr>\n",
       "    <tr>\n",
       "      <th>310011</th>\n",
       "      <td>panoramio.com/photo/2322642</td>\n",
       "      <td>good</td>\n",
       "    </tr>\n",
       "    <tr>\n",
       "      <th>300517</th>\n",
       "      <td>nbadraft.net/players/kris-joseph</td>\n",
       "      <td>good</td>\n",
       "    </tr>\n",
       "    <tr>\n",
       "      <th>171576</th>\n",
       "      <td>amazon.ca/Comment-lamour-fatiguer-Without-Gett...</td>\n",
       "      <td>good</td>\n",
       "    </tr>\n",
       "    <tr>\n",
       "      <th>240476</th>\n",
       "      <td>freebase.com/view/en/john_payne_1912</td>\n",
       "      <td>good</td>\n",
       "    </tr>\n",
       "    <tr>\n",
       "      <th>127033</th>\n",
       "      <td>pipl.com/directory/name/Hardy/Lou</td>\n",
       "      <td>good</td>\n",
       "    </tr>\n",
       "  </tbody>\n",
       "</table>\n",
       "</div>"
      ],
      "text/plain": [
       "                                                      url label\n",
       "106451  listofcitiesandcounties.com/list_of_cities_and...  good\n",
       "197383  capitolhillseattle.com/2011/08/02/atlas-shrug-...  good\n",
       "351179  tv-eh.com/2011/06/13/family-channel-and-disney...  good\n",
       "125999             photobucket.com/images/Taylor+Matheny/  good\n",
       "388366     lanotes.com/images/headers/korp/cp.php?m=login   bad\n",
       "314894          pressking.com/media-contact-database/ca/c  good\n",
       "176262                       amazon.com/phrase/Ben-Weider  good\n",
       "200668                                           cfmb.ch/  good\n",
       "200290                     census-online.us/view/NESBITT/  good\n",
       "232921                          fanbase.com/Steve-Barrere  good\n",
       "156690  wiki.answers.com/Q/How_Did_Alexander_Tilloch_G...  good\n",
       "107801                         losangeles.citysearch.com/  good\n",
       "389336             profisite.net.ua/server/cp.php?m=login   bad\n",
       "459380                         www.sierratel.com/resintl/  good\n",
       "221710  etsy.com/listing/41862814/say-cheesecake-starr...  good\n",
       "310011                        panoramio.com/photo/2322642  good\n",
       "300517                   nbadraft.net/players/kris-joseph  good\n",
       "171576  amazon.ca/Comment-lamour-fatiguer-Without-Gett...  good\n",
       "240476               freebase.com/view/en/john_payne_1912  good\n",
       "127033                  pipl.com/directory/name/Hardy/Lou  good"
      ]
     },
     "execution_count": 15,
     "metadata": {},
     "output_type": "execute_result"
    }
   ],
   "source": [
    "url_df.sample(20)"
   ]
  },
  {
   "attachments": {},
   "cell_type": "markdown",
   "id": "24ab4e76",
   "metadata": {},
   "source": [
    "#### Taking a quick look at the sample of our dataset we can see there are a lot of redundant things in our URL like '/ ',  ' : ',  ' . ', etc. these symbols are not neccessary for us. Further in the project we will be using TD-IDF Vectorizer to give scores to these URLs based on their lexical features. It will be a good if we will extract these words from the URL and remove all the redundant characters from it.\n"
   ]
  },
  {
   "cell_type": "code",
   "execution_count": 16,
   "id": "ef6a5f1b",
   "metadata": {},
   "outputs": [],
   "source": [
    "tknizer = RegexpTokenizer(r'[A-Za-z]+')"
   ]
  },
  {
   "cell_type": "code",
   "execution_count": 17,
   "id": "2f51c475",
   "metadata": {},
   "outputs": [
    {
     "data": {
      "text/plain": [
       "['http',\n",
       " 'localhost',\n",
       " 'notebooks',\n",
       " 'Documents',\n",
       " 'Malicious',\n",
       " 'URL',\n",
       " 'Detection',\n",
       " 'URL',\n",
       " 'Detection',\n",
       " 'using',\n",
       " 'Python',\n",
       " 'ipynb']"
      ]
     },
     "execution_count": 17,
     "metadata": {},
     "output_type": "execute_result"
    }
   ],
   "source": [
    "#Testing on a random URL\n",
    "tknizer.tokenize('http://localhost:8888/notebooks/Documents/Malicious%20URL%20Detection/URL%20Detection%20using%20Python.ipynb')"
   ]
  },
  {
   "attachments": {},
   "cell_type": "markdown",
   "id": "41420ed6",
   "metadata": {},
   "source": [
    "Defining a small function to form a new column in our dataframe that contains the tokenized URLs "
   ]
  },
  {
   "cell_type": "code",
   "execution_count": 18,
   "id": "53be6982",
   "metadata": {},
   "outputs": [
    {
     "name": "stdout",
     "output_type": "stream",
     "text": [
      "Starting the process to tokenize the URLs...\n",
      "Process Finished! and took 2.328125s\n"
     ]
    }
   ],
   "source": [
    "def tokenizeUrl(url):\n",
    "    return tknizer.tokenize(url)\n",
    "\n",
    "start = process_time()\n",
    "print('Starting the process to tokenize the URLs...')\n",
    "\n",
    "# Creating a new column in our dataframe that keeps the tokenized form of the URLs\n",
    "url_df['tokenized_url'] = url_df.url.map(tokenizeUrl)\n",
    "end = process_time()\n",
    "print(f'Process Finished! and took {end - start}s')"
   ]
  },
  {
   "cell_type": "code",
   "execution_count": 19,
   "id": "fb6baa2b",
   "metadata": {},
   "outputs": [
    {
     "data": {
      "text/html": [
       "<div>\n",
       "<style scoped>\n",
       "    .dataframe tbody tr th:only-of-type {\n",
       "        vertical-align: middle;\n",
       "    }\n",
       "\n",
       "    .dataframe tbody tr th {\n",
       "        vertical-align: top;\n",
       "    }\n",
       "\n",
       "    .dataframe thead th {\n",
       "        text-align: right;\n",
       "    }\n",
       "</style>\n",
       "<table border=\"1\" class=\"dataframe\">\n",
       "  <thead>\n",
       "    <tr style=\"text-align: right;\">\n",
       "      <th></th>\n",
       "      <th>url</th>\n",
       "      <th>label</th>\n",
       "      <th>tokenized_url</th>\n",
       "    </tr>\n",
       "  </thead>\n",
       "  <tbody>\n",
       "    <tr>\n",
       "      <th>0</th>\n",
       "      <td>diaryofagameaddict.com</td>\n",
       "      <td>bad</td>\n",
       "      <td>[diaryofagameaddict, com]</td>\n",
       "    </tr>\n",
       "    <tr>\n",
       "      <th>1</th>\n",
       "      <td>espdesign.com.au</td>\n",
       "      <td>bad</td>\n",
       "      <td>[espdesign, com, au]</td>\n",
       "    </tr>\n",
       "    <tr>\n",
       "      <th>2</th>\n",
       "      <td>iamagameaddict.com</td>\n",
       "      <td>bad</td>\n",
       "      <td>[iamagameaddict, com]</td>\n",
       "    </tr>\n",
       "    <tr>\n",
       "      <th>3</th>\n",
       "      <td>kalantzis.net</td>\n",
       "      <td>bad</td>\n",
       "      <td>[kalantzis, net]</td>\n",
       "    </tr>\n",
       "    <tr>\n",
       "      <th>4</th>\n",
       "      <td>slightlyoffcenter.net</td>\n",
       "      <td>bad</td>\n",
       "      <td>[slightlyoffcenter, net]</td>\n",
       "    </tr>\n",
       "  </tbody>\n",
       "</table>\n",
       "</div>"
      ],
      "text/plain": [
       "                      url label              tokenized_url\n",
       "0  diaryofagameaddict.com   bad  [diaryofagameaddict, com]\n",
       "1        espdesign.com.au   bad       [espdesign, com, au]\n",
       "2      iamagameaddict.com   bad      [iamagameaddict, com]\n",
       "3           kalantzis.net   bad           [kalantzis, net]\n",
       "4   slightlyoffcenter.net   bad   [slightlyoffcenter, net]"
      ]
     },
     "execution_count": 19,
     "metadata": {},
     "output_type": "execute_result"
    }
   ],
   "source": [
    "url_df.head(5)"
   ]
  },
  {
   "attachments": {},
   "cell_type": "markdown",
   "id": "e83e050e",
   "metadata": {},
   "source": [
    "We only need the words of the URL not the commas that are seperating them in the list so we will define a function that removes the commas and append that as a new column \n",
    "in our Dataframe."
   ]
  },
  {
   "cell_type": "code",
   "execution_count": 20,
   "id": "39df4418",
   "metadata": {},
   "outputs": [],
   "source": [
    "def clean_token(token):\n",
    "    return ' '.join(token);\n",
    "\n",
    "url_df['tokenized_url_cleaned'] = url_df['tokenized_url'].map(clean_token)"
   ]
  },
  {
   "cell_type": "code",
   "execution_count": 21,
   "id": "68fa2c71",
   "metadata": {},
   "outputs": [
    {
     "data": {
      "text/html": [
       "<div>\n",
       "<style scoped>\n",
       "    .dataframe tbody tr th:only-of-type {\n",
       "        vertical-align: middle;\n",
       "    }\n",
       "\n",
       "    .dataframe tbody tr th {\n",
       "        vertical-align: top;\n",
       "    }\n",
       "\n",
       "    .dataframe thead th {\n",
       "        text-align: right;\n",
       "    }\n",
       "</style>\n",
       "<table border=\"1\" class=\"dataframe\">\n",
       "  <thead>\n",
       "    <tr style=\"text-align: right;\">\n",
       "      <th></th>\n",
       "      <th>url</th>\n",
       "      <th>label</th>\n",
       "      <th>tokenized_url</th>\n",
       "      <th>tokenized_url_cleaned</th>\n",
       "    </tr>\n",
       "  </thead>\n",
       "  <tbody>\n",
       "    <tr>\n",
       "      <th>469624</th>\n",
       "      <td>www.cc.gatech.edu/aimosaic/faculty/goel/</td>\n",
       "      <td>good</td>\n",
       "      <td>[www, cc, gatech, edu, aimosaic, faculty, goel]</td>\n",
       "      <td>www cc gatech edu aimosaic faculty goel</td>\n",
       "    </tr>\n",
       "    <tr>\n",
       "      <th>338621</th>\n",
       "      <td>summerdiscovery.com/</td>\n",
       "      <td>good</td>\n",
       "      <td>[summerdiscovery, com]</td>\n",
       "      <td>summerdiscovery com</td>\n",
       "    </tr>\n",
       "    <tr>\n",
       "      <th>86145</th>\n",
       "      <td>finance.kelso.gov/City_of_Kelso_WA_Finance_Dep...</td>\n",
       "      <td>good</td>\n",
       "      <td>[finance, kelso, gov, City, of, Kelso, WA, Fin...</td>\n",
       "      <td>finance kelso gov City of Kelso WA Finance Dep...</td>\n",
       "    </tr>\n",
       "    <tr>\n",
       "      <th>198654</th>\n",
       "      <td>cbc.ca/spark/2008/01/unedited-interview-with-a...</td>\n",
       "      <td>good</td>\n",
       "      <td>[cbc, ca, spark, unedited, interview, with, al...</td>\n",
       "      <td>cbc ca spark unedited interview with alex stef...</td>\n",
       "    </tr>\n",
       "    <tr>\n",
       "      <th>126126</th>\n",
       "      <td>photos.lucywho.com/cliff-arquette-photos-t5149...</td>\n",
       "      <td>good</td>\n",
       "      <td>[photos, lucywho, com, cliff, arquette, photos...</td>\n",
       "      <td>photos lucywho com cliff arquette photos t html</td>\n",
       "    </tr>\n",
       "    <tr>\n",
       "      <th>285508</th>\n",
       "      <td>menuism.com/restaurants/kris-kates-ice-cream-t...</td>\n",
       "      <td>good</td>\n",
       "      <td>[menuism, com, restaurants, kris, kates, ice, ...</td>\n",
       "      <td>menuism com restaurants kris kates ice cream t...</td>\n",
       "    </tr>\n",
       "    <tr>\n",
       "      <th>288538</th>\n",
       "      <td>mmamania.com/2008/09/15/david-loiseau-inches-c...</td>\n",
       "      <td>good</td>\n",
       "      <td>[mmamania, com, david, loiseau, inches, closer...</td>\n",
       "      <td>mmamania com david loiseau inches closer to uf...</td>\n",
       "    </tr>\n",
       "    <tr>\n",
       "      <th>142084</th>\n",
       "      <td>streaming--tv.com/puerto-rico-islanders-v-sain...</td>\n",
       "      <td>good</td>\n",
       "      <td>[streaming, tv, com, puerto, rico, islanders, ...</td>\n",
       "      <td>streaming tv com puerto rico islanders v saint...</td>\n",
       "    </tr>\n",
       "    <tr>\n",
       "      <th>345873</th>\n",
       "      <td>tikun.ca/en/cat/federationcja/how-your-donatio...</td>\n",
       "      <td>good</td>\n",
       "      <td>[tikun, ca, en, cat, federationcja, how, your,...</td>\n",
       "      <td>tikun ca en cat federationcja how your donatio...</td>\n",
       "    </tr>\n",
       "    <tr>\n",
       "      <th>283868</th>\n",
       "      <td>matchcollege.com/college/199120/University-of-...</td>\n",
       "      <td>good</td>\n",
       "      <td>[matchcollege, com, college, University, of, N...</td>\n",
       "      <td>matchcollege com college University of North C...</td>\n",
       "    </tr>\n",
       "  </tbody>\n",
       "</table>\n",
       "</div>"
      ],
      "text/plain": [
       "                                                      url label  \\\n",
       "469624           www.cc.gatech.edu/aimosaic/faculty/goel/  good   \n",
       "338621                               summerdiscovery.com/  good   \n",
       "86145   finance.kelso.gov/City_of_Kelso_WA_Finance_Dep...  good   \n",
       "198654  cbc.ca/spark/2008/01/unedited-interview-with-a...  good   \n",
       "126126  photos.lucywho.com/cliff-arquette-photos-t5149...  good   \n",
       "285508  menuism.com/restaurants/kris-kates-ice-cream-t...  good   \n",
       "288538  mmamania.com/2008/09/15/david-loiseau-inches-c...  good   \n",
       "142084  streaming--tv.com/puerto-rico-islanders-v-sain...  good   \n",
       "345873  tikun.ca/en/cat/federationcja/how-your-donatio...  good   \n",
       "283868  matchcollege.com/college/199120/University-of-...  good   \n",
       "\n",
       "                                            tokenized_url  \\\n",
       "469624    [www, cc, gatech, edu, aimosaic, faculty, goel]   \n",
       "338621                             [summerdiscovery, com]   \n",
       "86145   [finance, kelso, gov, City, of, Kelso, WA, Fin...   \n",
       "198654  [cbc, ca, spark, unedited, interview, with, al...   \n",
       "126126  [photos, lucywho, com, cliff, arquette, photos...   \n",
       "285508  [menuism, com, restaurants, kris, kates, ice, ...   \n",
       "288538  [mmamania, com, david, loiseau, inches, closer...   \n",
       "142084  [streaming, tv, com, puerto, rico, islanders, ...   \n",
       "345873  [tikun, ca, en, cat, federationcja, how, your,...   \n",
       "283868  [matchcollege, com, college, University, of, N...   \n",
       "\n",
       "                                    tokenized_url_cleaned  \n",
       "469624            www cc gatech edu aimosaic faculty goel  \n",
       "338621                                summerdiscovery com  \n",
       "86145   finance kelso gov City of Kelso WA Finance Dep...  \n",
       "198654  cbc ca spark unedited interview with alex stef...  \n",
       "126126    photos lucywho com cliff arquette photos t html  \n",
       "285508  menuism com restaurants kris kates ice cream t...  \n",
       "288538  mmamania com david loiseau inches closer to uf...  \n",
       "142084  streaming tv com puerto rico islanders v saint...  \n",
       "345873  tikun ca en cat federationcja how your donatio...  \n",
       "283868  matchcollege com college University of North C...  "
      ]
     },
     "execution_count": 21,
     "metadata": {},
     "output_type": "execute_result"
    }
   ],
   "source": [
    "url_df.sample(10)"
   ]
  },
  {
   "attachments": {},
   "cell_type": "markdown",
   "id": "474d9251",
   "metadata": {},
   "source": [
    "## TF-IDF Vectorizer\n",
    "We are using TF-IDF algorithm to transform our tokenized_urls into numerical representation that we further use in our Machine learning algorithm to make predictions. \n",
    "\n"
   ]
  },
  {
   "cell_type": "code",
   "execution_count": 22,
   "id": "fee651eb",
   "metadata": {},
   "outputs": [
    {
     "name": "stdout",
     "output_type": "stream",
     "text": [
      "Vectorizing URLs...\n",
      "Task Complete! and took 4.703125s\n"
     ]
    }
   ],
   "source": [
    "vectorizer = TfidfVectorizer();\n",
    "\n",
    "start = process_time()\n",
    "print('Vectorizing URLs...')\n",
    "url_names = vectorizer.fit_transform(url_df.tokenized_url_cleaned)\n",
    "end = process_time()\n",
    "print(f'Task Complete! and took {end - start}s')"
   ]
  },
  {
   "cell_type": "code",
   "execution_count": 23,
   "id": "163bf2ba",
   "metadata": {},
   "outputs": [
    {
     "name": "stdout",
     "output_type": "stream",
     "text": [
      "  (0, 63362)\t0.09925989975711395\n",
      "  (0, 81754)\t0.9950615419662282\n",
      "  (1, 21257)\t0.39068637641562304\n",
      "  (1, 101040)\t0.9159778799029434\n",
      "  (1, 63362)\t0.09137110490597747\n",
      "  (2, 147412)\t0.9950615419662282\n",
      "  (2, 63362)\t0.09925989975711395\n",
      "  (3, 221298)\t0.2799929475489598\n",
      "  (3, 169685)\t0.9600020569367783\n",
      "  (4, 293180)\t0.9600020569367783\n",
      "  (4, 221298)\t0.2799929475489598\n",
      "  (5, 319915)\t0.9950615419662282\n",
      "  (5, 63362)\t0.09925989975711395\n",
      "  (6, 325043)\t0.9950615419662282\n",
      "  (6, 63362)\t0.09925989975711395\n",
      "  (7, 140983)\t0.5975473955006156\n",
      "  (7, 155814)\t0.8018335925430106\n",
      "  (8, 103330)\t0.28465190890071357\n",
      "  (8, 239645)\t0.41432622837353766\n",
      "  (8, 247315)\t0.14797423343187988\n",
      "  (8, 154091)\t0.382212337742083\n",
      "  (8, 320623)\t0.45201911914126386\n",
      "  (8, 332413)\t0.20421639991275892\n",
      "  (8, 68799)\t0.5773203619277139\n",
      "  (9, 178525)\t0.8187156226973928\n",
      "  :\t:\n",
      "  (507193, 355657)\t0.44497484381538777\n",
      "  (507193, 354709)\t0.1681294249584026\n",
      "  (507193, 3676)\t0.35735522366398786\n",
      "  (507193, 63362)\t0.0683570620746211\n",
      "  (507194, 349223)\t0.2533936807256806\n",
      "  (507194, 77348)\t0.47829306755600887\n",
      "  (507194, 297196)\t0.4990214642371575\n",
      "  (507194, 349272)\t0.2687331848529626\n",
      "  (507194, 121166)\t0.3986948820267225\n",
      "  (507194, 337989)\t0.36983230471729267\n",
      "  (507194, 97993)\t0.22855405034396067\n",
      "  (507194, 236615)\t0.19446578411151222\n",
      "  (507195, 80464)\t0.6937715043791304\n",
      "  (507195, 129341)\t0.6013051988315138\n",
      "  (507195, 13859)\t0.35121252047284673\n",
      "  (507195, 354709)\t0.17021612022358837\n",
      "  (507195, 63362)\t0.06920545823019238\n",
      "  (507196, 157223)\t0.5140048068035176\n",
      "  (507196, 157175)\t0.3697554760250773\n",
      "  (507196, 329238)\t0.42596679851864916\n",
      "  (507196, 345629)\t0.3759434504277625\n",
      "  (507196, 356659)\t0.30509836022677156\n",
      "  (507196, 189542)\t0.3129875143140642\n",
      "  (507196, 290472)\t0.2874432339744477\n",
      "  (507196, 63362)\t0.051273276522351495\n"
     ]
    }
   ],
   "source": [
    "print(url_names)"
   ]
  },
  {
   "attachments": {},
   "cell_type": "markdown",
   "id": "a238c442",
   "metadata": {},
   "source": [
    "### Splitting the data for training and testing"
   ]
  },
  {
   "cell_type": "code",
   "execution_count": 24,
   "id": "89a3f118",
   "metadata": {},
   "outputs": [
    {
     "name": "stdout",
     "output_type": "stream",
     "text": [
      "(380397, 369586)\n",
      "(380397,)\n",
      "(126800, 369586)\n",
      "(126800,)\n"
     ]
    }
   ],
   "source": [
    "trainX, testX, trainY, testY = train_test_split(url_names, url_df.label)\n",
    "print(trainX.shape)\n",
    "print(trainY.shape)\n",
    "print(testX.shape)\n",
    "print(testY.shape)"
   ]
  },
  {
   "attachments": {},
   "cell_type": "markdown",
   "id": "fbcf9efe",
   "metadata": {},
   "source": [
    "# MODELLING"
   ]
  },
  {
   "cell_type": "code",
   "execution_count": 25,
   "id": "a8ed68d0",
   "metadata": {},
   "outputs": [],
   "source": [
    "# An array to store the scores of both models\n",
    "model_scores = []"
   ]
  },
  {
   "attachments": {},
   "cell_type": "markdown",
   "id": "31400db4",
   "metadata": {},
   "source": [
    "## 1. Logistic Regression\n",
    "The first classification algorithm we used is <b>Logistic Regression</b>\n",
    "<br>\n",
    "We will be using two algorithms on this data and will deploy our model with the better performing one."
   ]
  },
  {
   "cell_type": "code",
   "execution_count": 26,
   "id": "fd5c2ce4",
   "metadata": {},
   "outputs": [],
   "source": [
    "logreg = LogisticRegression(max_iter=600)"
   ]
  },
  {
   "cell_type": "code",
   "execution_count": 27,
   "id": "98d4e02f",
   "metadata": {},
   "outputs": [
    {
     "name": "stdout",
     "output_type": "stream",
     "text": [
      "********************************************************\n",
      "Applying Logistic Regression...\n",
      "Model is trained. It took 32.03125 seconds to train the model!\n",
      "********************************************************\n"
     ]
    }
   ],
   "source": [
    "print('********************************************************')\n",
    "print('Applying Logistic Regression...')\n",
    "start = process_time()\n",
    "logreg.fit(trainX, trainY)\n",
    "end = process_time()\n",
    "print(f'Model is trained. It took {end - start} seconds to train the model!')\n",
    "print('********************************************************')"
   ]
  },
  {
   "cell_type": "code",
   "execution_count": 28,
   "id": "e9a52325",
   "metadata": {},
   "outputs": [
    {
     "name": "stdout",
     "output_type": "stream",
     "text": [
      "The model has a 96.82% Training accuracy\n",
      "The model has a 95.80% Testing accuracy\n"
     ]
    }
   ],
   "source": [
    "print(f'The model has a {logreg.score(trainX, trainY) * 100:.2f}% Training accuracy')\n",
    "print(f'The model has a {logreg.score(testX, testY) * 100:.2f}% Testing accuracy')\n",
    "# Appending the logistic regression model score to our list\n",
    "model_scores.append(logreg.score(testX, testY))"
   ]
  },
  {
   "attachments": {},
   "cell_type": "markdown",
   "id": "6d9a1290",
   "metadata": {},
   "source": [
    "### Confusion Matrix for Logistic Regression\n",
    "Using the confusion matrix we can visualise that how accurate our model is"
   ]
  },
  {
   "cell_type": "code",
   "execution_count": 29,
   "id": "5ef26bbd",
   "metadata": {
    "scrolled": false
   },
   "outputs": [
    {
     "name": "stdout",
     "output_type": "stream",
     "text": [
      "Classification Matrix for the model is: \n",
      "\n"
     ]
    },
    {
     "data": {
      "image/png": "[encoded data removed]",
      "text/plain": [
       "<Figure size 576x432 with 2 Axes>"
      ]
     },
     "metadata": {
      "needs_background": "light"
     },
     "output_type": "display_data"
    }
   ],
   "source": [
    "conf_mat = pd.DataFrame(confusion_matrix(logreg.predict(testX), testY), columns = ['Prediction: Bad', 'Prediction: Good'], index = ['Actual: Bad', 'Actual: Good'])\n",
    "print('Classification Matrix for the model is: \\n')\n",
    "figure(figsize = (8, 6))\n",
    "sns.heatmap(conf_mat, annot = True, fmt = 'd')\n",
    "plt.show();"
   ]
  },
  {
   "attachments": {},
   "cell_type": "markdown",
   "id": "6e78af22",
   "metadata": {},
   "source": [
    "## 2. Random Forest\n",
    "The Second classification algorithm we used is <b>Random Forest</b>\n",
    "<br>"
   ]
  },
  {
   "cell_type": "code",
   "execution_count": 30,
   "id": "21377501",
   "metadata": {},
   "outputs": [],
   "source": [
    "rf = RandomForestClassifier(n_estimators=1,max_depth=2,random_state=0)"
   ]
  },
  {
   "cell_type": "code",
   "execution_count": null,
   "id": "3695b3be",
   "metadata": {},
   "outputs": [],
   "source": []
  },
  {
   "cell_type": "code",
   "execution_count": 31,
   "id": "9d0080bc",
   "metadata": {},
   "outputs": [
    {
     "name": "stdout",
     "output_type": "stream",
     "text": [
      "********************************************************\n",
      "Applying Random forest algorithm ...\n",
      "Model is trained. It took 0.859375 seconds to train the model!\n",
      "********************************************************\n"
     ]
    }
   ],
   "source": [
    "print('********************************************************')\n",
    "print('Applying Random forest algorithm ...')\n",
    "start = process_time()\n",
    "rf.fit(trainX, trainY)\n",
    "end = process_time()\n",
    "print(f'Model is trained. It took {end - start} seconds to train the model!')\n",
    "print('********************************************************')"
   ]
  },
  {
   "cell_type": "code",
   "execution_count": 32,
   "id": "f9692443",
   "metadata": {},
   "outputs": [
    {
     "name": "stdout",
     "output_type": "stream",
     "text": [
      "0.7747905477698299\n"
     ]
    }
   ],
   "source": [
    "score = rf.score(trainX,trainY)\n",
    "print(score)"
   ]
  },
  {
   "cell_type": "code",
   "execution_count": 33,
   "id": "0ce37fec",
   "metadata": {},
   "outputs": [
    {
     "name": "stdout",
     "output_type": "stream",
     "text": [
      "0.7750315457413249\n"
     ]
    }
   ],
   "source": [
    "score = rf.score(testX,testY)\n",
    "print(score)"
   ]
  },
  {
   "attachments": {},
   "cell_type": "markdown",
   "id": "6adafe59",
   "metadata": {},
   "source": [
    "### We implemented our random forest with  estimator trees . It may be not the max accuracy , So we will iterate for 2-5 estimators and check for maximum \n"
   ]
  },
  {
   "cell_type": "code",
   "execution_count": 34,
   "id": "626722b7",
   "metadata": {},
   "outputs": [
    {
     "name": "stdout",
     "output_type": "stream",
     "text": [
      "0.7760602764401922\n",
      "0.7772116983827577\n",
      "0.7745933853361155\n"
     ]
    }
   ],
   "source": [
    "acc_lst = []\n",
    "for i in range(1,4):\n",
    "    acc = cross_val_score(RandomForestClassifier(n_estimators=i,max_depth=2,criterion='entropy'),trainX,trainY,cv=5).mean()\n",
    "    print(acc)\n",
    "    acc_lst.append(acc)"
   ]
  },
  {
   "cell_type": "code",
   "execution_count": 35,
   "id": "bc8821e4",
   "metadata": {},
   "outputs": [
    {
     "name": "stdout",
     "output_type": "stream",
     "text": [
      "[0.7760602764401922, 0.7772116983827577, 0.7745933853361155]\n"
     ]
    },
    {
     "data": {
      "image/png": "[encoded data removed]",
      "text/plain": [
       "<Figure size 432x288 with 1 Axes>"
      ]
     },
     "metadata": {
      "needs_background": "light"
     },
     "output_type": "display_data"
    }
   ],
   "source": [
    "print(acc_lst)\n",
    "plt.plot(acc_lst)\n",
    "mx = np.argmax(acc_lst)\n",
    "plt.show()"
   ]
  },
  {
   "attachments": {},
   "cell_type": "markdown",
   "id": "104efeae",
   "metadata": {},
   "source": [
    "### If we calculate this for 20-30 estimator tree tree will be more randomised and we will choose the point where it gave maximum accuracy "
   ]
  },
  {
   "cell_type": "code",
   "execution_count": 36,
   "id": "3c05afdb",
   "metadata": {},
   "outputs": [
    {
     "data": {
      "text/html": [
       "<style>#sk-container-id-1 {color: black;background-color: white;}#sk-container-id-1 pre{padding: 0;}#sk-container-id-1 div.sk-toggleable {background-color: white;}#sk-container-id-1 label.sk-toggleable__label {cursor: pointer;display: block;width: 100%;margin-bottom: 0;padding: 0.3em;box-sizing: border-box;text-align: center;}#sk-container-id-1 label.sk-toggleable__label-arrow:before {content: \"▸\";float: left;margin-right: 0.25em;color: #696969;}#sk-container-id-1 label.sk-toggleable__label-arrow:hover:before {color: black;}#sk-container-id-1 div.sk-estimator:hover label.sk-toggleable__label-arrow:before {color: black;}#sk-container-id-1 div.sk-toggleable__content {max-height: 0;max-width: 0;overflow: hidden;text-align: left;background-color: #f0f8ff;}#sk-container-id-1 div.sk-toggleable__content pre {margin: 0.2em;color: black;border-radius: 0.25em;background-color: #f0f8ff;}#sk-container-id-1 input.sk-toggleable__control:checked~div.sk-toggleable__content {max-height: 200px;max-width: 100%;overflow: auto;}#sk-container-id-1 input.sk-toggleable__control:checked~label.sk-toggleable__label-arrow:before {content: \"▾\";}#sk-container-id-1 div.sk-estimator input.sk-toggleable__control:checked~label.sk-toggleable__label {background-color: #d4ebff;}#sk-container-id-1 div.sk-label input.sk-toggleable__control:checked~label.sk-toggleable__label {background-color: #d4ebff;}#sk-container-id-1 input.sk-hidden--visually {border: 0;clip: rect(1px 1px 1px 1px);clip: rect(1px, 1px, 1px, 1px);height: 1px;margin: -1px;overflow: hidden;padding: 0;position: absolute;width: 1px;}#sk-container-id-1 div.sk-estimator {font-family: monospace;background-color: #f0f8ff;border: 1px dotted black;border-radius: 0.25em;box-sizing: border-box;margin-bottom: 0.5em;}#sk-container-id-1 div.sk-estimator:hover {background-color: #d4ebff;}#sk-container-id-1 div.sk-parallel-item::after {content: \"\";width: 100%;border-bottom: 1px solid gray;flex-grow: 1;}#sk-container-id-1 div.sk-label:hover label.sk-toggleable__label {background-color: #d4ebff;}#sk-container-id-1 div.sk-serial::before {content: \"\";position: absolute;border-left: 1px solid gray;box-sizing: border-box;top: 0;bottom: 0;left: 50%;z-index: 0;}#sk-container-id-1 div.sk-serial {display: flex;flex-direction: column;align-items: center;background-color: white;padding-right: 0.2em;padding-left: 0.2em;position: relative;}#sk-container-id-1 div.sk-item {position: relative;z-index: 1;}#sk-container-id-1 div.sk-parallel {display: flex;align-items: stretch;justify-content: center;background-color: white;position: relative;}#sk-container-id-1 div.sk-item::before, #sk-container-id-1 div.sk-parallel-item::before {content: \"\";position: absolute;border-left: 1px solid gray;box-sizing: border-box;top: 0;bottom: 0;left: 50%;z-index: -1;}#sk-container-id-1 div.sk-parallel-item {display: flex;flex-direction: column;z-index: 1;position: relative;background-color: white;}#sk-container-id-1 div.sk-parallel-item:first-child::after {align-self: flex-end;width: 50%;}#sk-container-id-1 div.sk-parallel-item:last-child::after {align-self: flex-start;width: 50%;}#sk-container-id-1 div.sk-parallel-item:only-child::after {width: 0;}#sk-container-id-1 div.sk-dashed-wrapped {border: 1px dashed gray;margin: 0 0.4em 0.5em 0.4em;box-sizing: border-box;padding-bottom: 0.4em;background-color: white;}#sk-container-id-1 div.sk-label label {font-family: monospace;font-weight: bold;display: inline-block;line-height: 1.2em;}#sk-container-id-1 div.sk-label-container {text-align: center;}#sk-container-id-1 div.sk-container {/* jupyter's `normalize.less` sets `[hidden] { display: none; }` but bootstrap.min.css set `[hidden] { display: none !important; }` so we also need the `!important` here to be able to override the default hidden behavior on the sphinx rendered scikit-learn.org. See: https://github.com/scikit-learn/scikit-learn/issues/21755 */display: inline-block !important;position: relative;}#sk-container-id-1 div.sk-text-repr-fallback {display: none;}</style><div id=\"sk-container-id-1\" class=\"sk-top-container\"><div class=\"sk-text-repr-fallback\"><pre>RandomForestClassifier(criterion=&#x27;entropy&#x27;, max_depth=3, n_estimators=2)</pre><b>In a Jupyter environment, please rerun this cell to show the HTML representation or trust the notebook. <br />On GitHub, the HTML representation is unable to render, please try loading this page with nbviewer.org.</b></div><div class=\"sk-container\" hidden><div class=\"sk-item\"><div class=\"sk-estimator sk-toggleable\"><input class=\"sk-toggleable__control sk-hidden--visually\" id=\"sk-estimator-id-1\" type=\"checkbox\" checked><label for=\"sk-estimator-id-1\" class=\"sk-toggleable__label sk-toggleable__label-arrow\">RandomForestClassifier</label><div class=\"sk-toggleable__content\"><pre>RandomForestClassifier(criterion=&#x27;entropy&#x27;, max_depth=3, n_estimators=2)</pre></div></div></div></div></div>"
      ],
      "text/plain": [
       "RandomForestClassifier(criterion='entropy', max_depth=3, n_estimators=2)"
      ]
     },
     "execution_count": 36,
     "metadata": {},
     "output_type": "execute_result"
    }
   ],
   "source": [
    "# We got the maximum n_estimator point now (:\n",
    "# print(mx)\n",
    "rf = RandomForestClassifier(n_estimators = 2,max_depth=3,criterion='entropy')\n",
    "rf.fit(trainX,trainY)"
   ]
  },
  {
   "cell_type": "code",
   "execution_count": 37,
   "id": "dd4cf65f",
   "metadata": {},
   "outputs": [
    {
     "name": "stdout",
     "output_type": "stream",
     "text": [
      "The model has a 77.56% Training accuracy\n",
      "The model has a 77.58% Testing accuracy\n"
     ]
    }
   ],
   "source": [
    "print(f'The model has a {rf.score(trainX,trainY) * 100:.2f}% Training accuracy')\n",
    "print(f'The model has a {rf.score(testX,testY) * 100:.2f}% Testing accuracy')"
   ]
  },
  {
   "cell_type": "code",
   "execution_count": 38,
   "id": "afe133c8",
   "metadata": {},
   "outputs": [
    {
     "name": "stdout",
     "output_type": "stream",
     "text": [
      "Classification Matrix for the model is: \n",
      "\n"
     ]
    },
    {
     "data": {
      "image/png": "[encoded data removed]",
      "text/plain": [
       "<Figure size 576x432 with 2 Axes>"
      ]
     },
     "metadata": {
      "needs_background": "light"
     },
     "output_type": "display_data"
    }
   ],
   "source": [
    "conf_matRF = pd.DataFrame(confusion_matrix(rf.predict(testX), testY), columns = ['Prediction: Bad', 'Prediction: Good'], index = ['Actual: Bad', 'Actual: Good'])\n",
    "print('Classification Matrix for the model is: \\n')\n",
    "figure(figsize = (8, 6))\n",
    "sns.heatmap(conf_matRF, annot = True, fmt = 'd')\n",
    "plt.show();"
   ]
  },
  {
   "attachments": {},
   "cell_type": "markdown",
   "id": "a4de50c8",
   "metadata": {},
   "source": [
    "### We can see that Logistic Regression performs better than Random Forest Classfier on our dataset so we will dump our model as pickel file"
   ]
  },
  {
   "cell_type": "code",
   "execution_count": 39,
   "id": "ae786032",
   "metadata": {},
   "outputs": [],
   "source": [
    "pipeline_logreg = make_pipeline(TfidfVectorizer(tokenizer = RegexpTokenizer(r'[A-Za-z]+').tokenize), LogisticRegression(max_iter=600))"
   ]
  },
  {
   "cell_type": "code",
   "execution_count": 40,
   "id": "c78ed9c3",
   "metadata": {},
   "outputs": [],
   "source": [
    "trainX, testX, trainY, testY = train_test_split(url_df.url, url_df.label)"
   ]
  },
  {
   "cell_type": "code",
   "execution_count": 41,
   "id": "32b58db2",
   "metadata": {},
   "outputs": [
    {
     "name": "stdout",
     "output_type": "stream",
     "text": [
      "*******************************************\n",
      "Training...\n"
     ]
    },
    {
     "name": "stderr",
     "output_type": "stream",
     "text": [
      "c:\\python 3.9.0\\lib\\site-packages\\sklearn\\feature_extraction\\text.py:528: UserWarning: The parameter 'token_pattern' will not be used since 'tokenizer' is not None'\n",
      "  warnings.warn(\n"
     ]
    },
    {
     "name": "stdout",
     "output_type": "stream",
     "text": [
      "Process Finished\n",
      "*******************************************\n"
     ]
    }
   ],
   "source": [
    "print('*******************************************')\n",
    "print('Training...')\n",
    "pipeline_logreg.fit(trainX,trainY)\n",
    "print('Process Finished')\n",
    "print('*******************************************')"
   ]
  },
  {
   "cell_type": "code",
   "execution_count": 42,
   "id": "b825d9fc",
   "metadata": {},
   "outputs": [
    {
     "name": "stdout",
     "output_type": "stream",
     "text": [
      "The accuracy is: 0.9594637223974763\n"
     ]
    }
   ],
   "source": [
    "print(f'The accuracy is: {pipeline_logreg.score(testX, testY)}')"
   ]
  },
  {
   "cell_type": "code",
   "execution_count": 43,
   "id": "89b78f9a",
   "metadata": {},
   "outputs": [],
   "source": [
    "pickle.dump(pipeline_logreg,open('logreg.pkl','wb'))"
   ]
  },
  {
   "cell_type": "code",
   "execution_count": 44,
   "id": "5ad62507",
   "metadata": {},
   "outputs": [
    {
     "name": "stdout",
     "output_type": "stream",
     "text": [
      "0.9594637223974763\n"
     ]
    }
   ],
   "source": [
    "loaded_logreg = pickle.load(open('logreg.pkl', 'rb'))\n",
    "res = loaded_logreg.score(testX, testY)\n",
    "print(res)"
   ]
  },
  {
   "cell_type": "code",
   "execution_count": 45,
   "id": "82d808fc",
   "metadata": {},
   "outputs": [
    {
     "name": "stdout",
     "output_type": "stream",
     "text": [
      "['good']\n"
     ]
    }
   ],
   "source": [
    "url = ['stackoverflow.com/questions/']\n",
    "res = loaded_logreg.predict(url)\n",
    "print(res)"
   ]
  }
 ],
 "metadata": {
  "kernelspec": {
   "display_name": "Python 3",
   "language": "python",
   "name": "python3"
  },
  "language_info": {
   "codemirror_mode": {
    "name": "ipython",
    "version": 3
   },
   "file_extension": ".py",
   "mimetype": "text/x-python",
   "name": "python",
   "nbconvert_exporter": "python",
   "pygments_lexer": "ipython3",
   "version": "3.9.0"
  },
  "vscode": {
   "interpreter": {
    "hash": "48db5994b0b093154e25f6d4586d2f03fde606f6ef9d42249ec5726610311839"
   }
  }
 },
 "nbformat": 4,
 "nbformat_minor": 5
}
